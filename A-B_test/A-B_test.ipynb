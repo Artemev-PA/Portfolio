{
 "cells": [
  {
   "cell_type": "markdown",
   "id": "6736d0b5",
   "metadata": {},
   "source": [
    "### A/B test"
   ]
  },
  {
   "cell_type": "markdown",
   "id": "2c39702a",
   "metadata": {},
   "source": [
    "Project aim: to conduct A/B test and evaluate the results of the improved recommendation system.\n",
    "\n",
    "A - control group (unchanged recommendation system)\n",
    "\n",
    "B - test group (improved recommendation system)"
   ]
  },
  {
   "cell_type": "markdown",
   "id": "1d8e3490",
   "metadata": {},
   "source": [
    "### Step 1. Obtaining data"
   ]
  },
  {
   "cell_type": "code",
   "execution_count": 1,
   "id": "c4475a34",
   "metadata": {},
   "outputs": [],
   "source": [
    "# import libraries\n",
    "import pandas as pd\n",
    "import numpy as np\n",
    "import datetime as dt\n",
    "import matplotlib.pyplot as plt\n",
    "from scipy import stats as st"
   ]
  },
  {
   "cell_type": "code",
   "execution_count": 2,
   "id": "a030229b",
   "metadata": {},
   "outputs": [],
   "source": [
    "# load datasets\n",
    "orders = pd.read_csv('https://github.com/Artemev-PA/Portfolio/blob/main/A-B_test/datasets/orders.csv?raw=true')\n",
    "visitors = pd.read_csv('https://github.com/Artemev-PA/Portfolio/blob/main/A-B_test/datasets/visitors.csv?raw=true')"
   ]
  },
  {
   "cell_type": "markdown",
   "id": "9425e8e5",
   "metadata": {},
   "source": [
    "### Step 2. Data preprocessing"
   ]
  },
  {
   "cell_type": "code",
   "execution_count": 3,
   "id": "6a6afbb6",
   "metadata": {},
   "outputs": [],
   "source": [
    "def data_preprocessing(df):\n",
    "    \"\"\"\n",
    "    Method that lowers column names, prints first 5 rows of the dataset,\n",
    "    general info and checks for the duplicates and omitted values\n",
    "    \"\"\"\n",
    "    display(df.head())\n",
    "    print('Duplicates: ', df.duplicated().sum(), '\\n')\n",
    "    print('Null:\\n', df.isna().sum(), '\\n')\n",
    "    print(df.info())"
   ]
  },
  {
   "cell_type": "code",
   "execution_count": 4,
   "id": "da6eb58d",
   "metadata": {},
   "outputs": [
    {
     "data": {
      "text/html": [
       "<div>\n",
       "<style scoped>\n",
       "    .dataframe tbody tr th:only-of-type {\n",
       "        vertical-align: middle;\n",
       "    }\n",
       "\n",
       "    .dataframe tbody tr th {\n",
       "        vertical-align: top;\n",
       "    }\n",
       "\n",
       "    .dataframe thead th {\n",
       "        text-align: right;\n",
       "    }\n",
       "</style>\n",
       "<table border=\"1\" class=\"dataframe\">\n",
       "  <thead>\n",
       "    <tr style=\"text-align: right;\">\n",
       "      <th></th>\n",
       "      <th>transactionId</th>\n",
       "      <th>visitorId</th>\n",
       "      <th>date</th>\n",
       "      <th>revenue</th>\n",
       "      <th>group</th>\n",
       "    </tr>\n",
       "  </thead>\n",
       "  <tbody>\n",
       "    <tr>\n",
       "      <th>0</th>\n",
       "      <td>3667963787</td>\n",
       "      <td>3312258926</td>\n",
       "      <td>2019-08-15</td>\n",
       "      <td>1650</td>\n",
       "      <td>B</td>\n",
       "    </tr>\n",
       "    <tr>\n",
       "      <th>1</th>\n",
       "      <td>2804400009</td>\n",
       "      <td>3642806036</td>\n",
       "      <td>2019-08-15</td>\n",
       "      <td>730</td>\n",
       "      <td>B</td>\n",
       "    </tr>\n",
       "    <tr>\n",
       "      <th>2</th>\n",
       "      <td>2961555356</td>\n",
       "      <td>4069496402</td>\n",
       "      <td>2019-08-15</td>\n",
       "      <td>400</td>\n",
       "      <td>A</td>\n",
       "    </tr>\n",
       "    <tr>\n",
       "      <th>3</th>\n",
       "      <td>3797467345</td>\n",
       "      <td>1196621759</td>\n",
       "      <td>2019-08-15</td>\n",
       "      <td>9759</td>\n",
       "      <td>B</td>\n",
       "    </tr>\n",
       "    <tr>\n",
       "      <th>4</th>\n",
       "      <td>2282983706</td>\n",
       "      <td>2322279887</td>\n",
       "      <td>2019-08-15</td>\n",
       "      <td>2308</td>\n",
       "      <td>B</td>\n",
       "    </tr>\n",
       "  </tbody>\n",
       "</table>\n",
       "</div>"
      ],
      "text/plain": [
       "   transactionId   visitorId        date  revenue group\n",
       "0     3667963787  3312258926  2019-08-15     1650     B\n",
       "1     2804400009  3642806036  2019-08-15      730     B\n",
       "2     2961555356  4069496402  2019-08-15      400     A\n",
       "3     3797467345  1196621759  2019-08-15     9759     B\n",
       "4     2282983706  2322279887  2019-08-15     2308     B"
      ]
     },
     "metadata": {},
     "output_type": "display_data"
    },
    {
     "name": "stdout",
     "output_type": "stream",
     "text": [
      "Duplicates:  0 \n",
      "\n",
      "Null:\n",
      " transactionId    0\n",
      "visitorId        0\n",
      "date             0\n",
      "revenue          0\n",
      "group            0\n",
      "dtype: int64 \n",
      "\n",
      "<class 'pandas.core.frame.DataFrame'>\n",
      "RangeIndex: 1197 entries, 0 to 1196\n",
      "Data columns (total 5 columns):\n",
      " #   Column         Non-Null Count  Dtype \n",
      "---  ------         --------------  ----- \n",
      " 0   transactionId  1197 non-null   int64 \n",
      " 1   visitorId      1197 non-null   int64 \n",
      " 2   date           1197 non-null   object\n",
      " 3   revenue        1197 non-null   int64 \n",
      " 4   group          1197 non-null   object\n",
      "dtypes: int64(3), object(2)\n",
      "memory usage: 46.9+ KB\n",
      "None\n"
     ]
    },
    {
     "data": {
      "text/html": [
       "<div>\n",
       "<style scoped>\n",
       "    .dataframe tbody tr th:only-of-type {\n",
       "        vertical-align: middle;\n",
       "    }\n",
       "\n",
       "    .dataframe tbody tr th {\n",
       "        vertical-align: top;\n",
       "    }\n",
       "\n",
       "    .dataframe thead th {\n",
       "        text-align: right;\n",
       "    }\n",
       "</style>\n",
       "<table border=\"1\" class=\"dataframe\">\n",
       "  <thead>\n",
       "    <tr style=\"text-align: right;\">\n",
       "      <th></th>\n",
       "      <th>date</th>\n",
       "      <th>group</th>\n",
       "      <th>visitors</th>\n",
       "    </tr>\n",
       "  </thead>\n",
       "  <tbody>\n",
       "    <tr>\n",
       "      <th>0</th>\n",
       "      <td>2019-08-01</td>\n",
       "      <td>A</td>\n",
       "      <td>719</td>\n",
       "    </tr>\n",
       "    <tr>\n",
       "      <th>1</th>\n",
       "      <td>2019-08-02</td>\n",
       "      <td>A</td>\n",
       "      <td>619</td>\n",
       "    </tr>\n",
       "    <tr>\n",
       "      <th>2</th>\n",
       "      <td>2019-08-03</td>\n",
       "      <td>A</td>\n",
       "      <td>507</td>\n",
       "    </tr>\n",
       "    <tr>\n",
       "      <th>3</th>\n",
       "      <td>2019-08-04</td>\n",
       "      <td>A</td>\n",
       "      <td>717</td>\n",
       "    </tr>\n",
       "    <tr>\n",
       "      <th>4</th>\n",
       "      <td>2019-08-05</td>\n",
       "      <td>A</td>\n",
       "      <td>756</td>\n",
       "    </tr>\n",
       "  </tbody>\n",
       "</table>\n",
       "</div>"
      ],
      "text/plain": [
       "         date group  visitors\n",
       "0  2019-08-01     A       719\n",
       "1  2019-08-02     A       619\n",
       "2  2019-08-03     A       507\n",
       "3  2019-08-04     A       717\n",
       "4  2019-08-05     A       756"
      ]
     },
     "metadata": {},
     "output_type": "display_data"
    },
    {
     "name": "stdout",
     "output_type": "stream",
     "text": [
      "Duplicates:  0 \n",
      "\n",
      "Null:\n",
      " date        0\n",
      "group       0\n",
      "visitors    0\n",
      "dtype: int64 \n",
      "\n",
      "<class 'pandas.core.frame.DataFrame'>\n",
      "RangeIndex: 62 entries, 0 to 61\n",
      "Data columns (total 3 columns):\n",
      " #   Column    Non-Null Count  Dtype \n",
      "---  ------    --------------  ----- \n",
      " 0   date      62 non-null     object\n",
      " 1   group     62 non-null     object\n",
      " 2   visitors  62 non-null     int64 \n",
      "dtypes: int64(1), object(2)\n",
      "memory usage: 1.6+ KB\n",
      "None\n"
     ]
    }
   ],
   "source": [
    "# check data basic info\n",
    "data_preprocessing(orders)\n",
    "data_preprocessing(visitors)"
   ]
  },
  {
   "cell_type": "code",
   "execution_count": 5,
   "id": "cffea285",
   "metadata": {},
   "outputs": [],
   "source": [
    "# change dates into pandas datetime format\n",
    "orders['date'] = orders['date'].map(lambda x: dt.datetime.strptime(x, '%Y-%m-%d'))\n",
    "visitors['date'] = pd.to_datetime(visitors['date'])"
   ]
  },
  {
   "cell_type": "markdown",
   "id": "df240208",
   "metadata": {},
   "source": [
    "### Step 3. Data analysis"
   ]
  },
  {
   "cell_type": "code",
   "execution_count": 6,
   "id": "9ec6b1e0",
   "metadata": {},
   "outputs": [],
   "source": [
    "# select daily visitors for group A\n",
    "visitors_daily_A = visitors[visitors['group'] == 'A'][['date', 'visitors']]\n",
    "# rename the columns\n",
    "visitors_daily_A.columns = ['date', 'visitors_per_day_A']\n",
    "\n",
    "# select daily visitors for group B\n",
    "visitors_daily_B = visitors[visitors['group'] == 'B'][['date', 'visitors']]\n",
    "# rename the columns\n",
    "visitors_daily_B.columns = ['date', 'visitors_per_day_B']\n",
    "\n",
    "# calculate cumulative visitors for group A\n",
    "visitors_cumulative_A = visitors_daily_A.apply(lambda x: visitors_daily_A[visitors_daily_A['date'] <= x['date']].agg({\n",
    "    'date': 'max', 'visitors_per_day_A': 'sum'\n",
    "}), axis=1)\n",
    "# rename the columns\n",
    "visitors_cumulative_A.columns = ['date', 'visitors_cumulative_A']\n",
    "\n",
    "# calculate cumulative visitors for group B\n",
    "visitors_cumulative_B = visitors_daily_B.apply(lambda x: visitors_daily_B[visitors_daily_B['date'] <= x['date']].agg({\n",
    "    'date': 'max', 'visitors_per_day_B': 'sum'\n",
    "}), axis=1)\n",
    "# rename the columns\n",
    "visitors_cumulative_B.columns = ['date', 'visitors_cumulative_B']\n",
    "\n",
    "# calculate daily orders for group A and revenue per day\n",
    "orders_daily_A = orders[orders['group'] == 'A'][['date', 'transactionId', 'revenue']].groupby('date', as_index=False).agg({\n",
    "    'transactionId': 'nunique', 'revenue': 'sum'\n",
    "})\n",
    "# rename the columns\n",
    "orders_daily_A.columns = ['date', 'orders_per_day_A', 'revenue_per_day_A']\n",
    "\n",
    "# calculate daily orders for group B and revenue per day\n",
    "orders_daily_B = orders[orders['group'] == 'B'][['date', 'transactionId', 'revenue']].groupby('date', as_index=False).agg({\n",
    "    'transactionId': 'nunique', 'revenue': 'sum'\n",
    "})\n",
    "# rename the columns\n",
    "orders_daily_B.columns = ['date', 'orders_per_day_B', 'revenue_per_day_B']\n",
    "\n",
    "# calculate cumulative orders and revenue for group A\n",
    "orders_cumulative_A = orders_daily_A.apply(lambda x: orders_daily_A[orders_daily_A['date'] <= x['date']].agg(\n",
    "        {'date': 'max', 'orders_per_day_A': 'sum', 'revenue_per_day_A': 'sum'}\n",
    "    ), axis=1).sort_values(by=['date'])\n",
    "# rename the columns\n",
    "orders_cumulative_A.columns = ['date', 'orders_cumulative_A', 'revenue_cumulative_A']\n",
    "\n",
    "# calculate cumulative orders and revenue for group B\n",
    "orders_cumulative_B = orders_daily_B.apply(lambda x: orders_daily_B[orders_daily_B['date'] <= x['date']].agg(\n",
    "        {'date': 'max', 'orders_per_day_B': 'sum', 'revenue_per_day_B': 'sum'}\n",
    "    ), axis=1).sort_values(by=['date'])\n",
    "# Rename the columns\n",
    "orders_cumulative_B.columns = ['date', 'orders_cumulative_B', 'revenue_cumulative_B']\n",
    "\n",
    "# merge all the dataframes to create a final dataframe\n",
    "data = orders_daily_A \\\n",
    "        .merge(orders_daily_B, on='date', how='left') \\\n",
    "        .merge(orders_cumulative_A, on='date', how='left') \\\n",
    "        .merge(orders_cumulative_B, on='date', how='left') \\\n",
    "        .merge(visitors_daily_A, on='date', how='left') \\\n",
    "        .merge(visitors_daily_B, on='date', how='left') \\\n",
    "        .merge(visitors_cumulative_A, on='date', how='left') \\\n",
    "        .merge(visitors_cumulative_B, on='date', how='left')"
   ]
  },
  {
   "cell_type": "code",
   "execution_count": 7,
   "id": "c9aa00f1",
   "metadata": {},
   "outputs": [
    {
     "data": {
      "image/png": "[encoded data removed]",
      "text/plain": [
       "<Figure size 640x480 with 1 Axes>"
      ]
     },
     "metadata": {},
     "output_type": "display_data"
    }
   ],
   "source": [
    "# plot the cumulative revenue for group A\n",
    "plt.plot(data['date'], data['revenue_cumulative_A'], label='A')\n",
    "\n",
    "# plot the cumulative revenue for group B\n",
    "plt.plot(data['date'], data['revenue_cumulative_B'], label='B')\n",
    "\n",
    "# rotate x-axis labels for readability\n",
    "plt.xticks(rotation=45)\n",
    "\n",
    "# set the plot title and adds a legend\n",
    "plt.title('Cumulative revenue by group')\n",
    "plt.legend()\n",
    "\n",
    "# display the plot\n",
    "plt.show()\n"
   ]
  },
  {
   "cell_type": "code",
   "execution_count": 8,
   "id": "35ee030e",
   "metadata": {},
   "outputs": [
    {
     "data": {
      "image/png": "[encoded data removed]",
      "text/plain": [
       "<Figure size 640x480 with 1 Axes>"
      ]
     },
     "metadata": {},
     "output_type": "display_data"
    }
   ],
   "source": [
    "# plot the average bill for group A by dividing cumulative revenue by cumulative orders\n",
    "plt.plot(data['date'], data['revenue_cumulative_A'] / data['orders_cumulative_A'], label='A')\n",
    "\n",
    "# plot the average bill for group B by dividing cumulative revenue by cumulative orders\n",
    "plt.plot(data['date'], data['revenue_cumulative_B'] / data['orders_cumulative_B'], label='B')\n",
    "\n",
    "# rotate x-axis labels for readability\n",
    "plt.xticks(rotation=45)\n",
    "\n",
    "# sets the plot title and adds a legend\n",
    "plt.title('Average bill by group')\n",
    "plt.legend()\n",
    "\n",
    "# displays the plot\n",
    "plt.show()\n"
   ]
  },
  {
   "cell_type": "markdown",
   "id": "9297c016",
   "metadata": {},
   "source": [
    "Both cumulative revenue and average bill graphs represent significant growth in B group by the end of the third week of August 2019. After the sharp spike in revenues the B group average bill steadily declines by the end of the observable period."
   ]
  },
  {
   "cell_type": "code",
   "execution_count": 9,
   "id": "0d6cb896",
   "metadata": {},
   "outputs": [
    {
     "data": {
      "image/png": "[encoded data removed]",
      "text/plain": [
       "<Figure size 640x480 with 1 Axes>"
      ]
     },
     "metadata": {},
     "output_type": "display_data"
    }
   ],
   "source": [
    "# calculate the ratio of average bill for group B to average bill for group A\n",
    "ratio = (data['revenue_cumulative_B'] / data['orders_cumulative_B']) \\\n",
    "         / (data['revenue_cumulative_A'] / data['orders_cumulative_A']) - 1\n",
    "\n",
    "# create a line plot of the ratio over time\n",
    "plt.plot(data['date'], ratio)\n",
    "\n",
    "# rotate x-axis labels for better readability\n",
    "plt.xticks(rotation=45)\n",
    "\n",
    "# add a title to the plot\n",
    "plt.title('Average bill B to average bill A ratio')\n",
    "\n",
    "# display the plot\n",
    "plt.show()\n"
   ]
  },
  {
   "cell_type": "markdown",
   "id": "651a8a84",
   "metadata": {},
   "source": [
    "The relationship between average bill ratios represent large increases of the B group's metric in the first and third weeks of the month (especially in the third week). This means that individual large purchases were made in group B during the observed period. Such events are considered to be outliers and should be eliminated in the further analysis."
   ]
  },
  {
   "cell_type": "code",
   "execution_count": 10,
   "id": "1156be06",
   "metadata": {
    "scrolled": true
   },
   "outputs": [
    {
     "data": {
      "image/png": "[encoded data removed]",
      "text/plain": [
       "<Figure size 640x480 with 1 Axes>"
      ]
     },
     "metadata": {},
     "output_type": "display_data"
    }
   ],
   "source": [
    "# plot the order count per user for group A and group B over time\n",
    "plt.plot(data['date'], data['orders_cumulative_A'] / data['visitors_cumulative_A'], label='A')\n",
    "plt.plot(data['date'], data['orders_cumulative_B'] / data['visitors_cumulative_B'], label='B')\n",
    "\n",
    "# rotate the x-axis labels for better readability\n",
    "plt.xticks(rotation=45)\n",
    "\n",
    "# add a title to the plot\n",
    "plt.title('Order count per user by group')\n",
    "\n",
    "# set the y-axis limits to better highlight the differences between the groups\n",
    "plt.ylim(0.02, 0.04)\n",
    "\n",
    "# add a legend to the plot\n",
    "plt.legend()\n",
    "\n",
    "# display the plot\n",
    "plt.show()"
   ]
  },
  {
   "cell_type": "markdown",
   "id": "ec0aa002",
   "metadata": {},
   "source": [
    "Group B order counts exceeded the ones of group A in the beginning of the month. Afterwards, the order count per user stabilized around the values of 0.03 (group A) and 0.035 (group B)."
   ]
  },
  {
   "cell_type": "code",
   "execution_count": 11,
   "id": "956fe0b0",
   "metadata": {},
   "outputs": [
    {
     "data": {
      "image/png": "[encoded data removed]",
      "text/plain": [
       "<Figure size 640x480 with 1 Axes>"
      ]
     },
     "metadata": {},
     "output_type": "display_data"
    }
   ],
   "source": [
    "# plot the ratio of orders per visitor in group B to group A over time\n",
    "plt.plot(data['date'], ((data['orders_cumulative_B'] / data['visitors_cumulative_B']) \\\n",
    "         / (data['orders_cumulative_A'] / data['visitors_cumulative_A'])) - 1)\n",
    "\n",
    "# set x-axis labels to be rotated for better readability\n",
    "plt.xticks(rotation=45)\n",
    "\n",
    "# add a title to the plot\n",
    "plt.title('Order count B to A ratio')\n",
    "\n",
    "# set the y-axis limits to zoom in on the relevant range\n",
    "plt.ylim(-0.5, 0.5)\n",
    "\n",
    "# display the plot\n",
    "plt.show()"
   ]
  },
  {
   "cell_type": "markdown",
   "id": "293672b6",
   "metadata": {},
   "source": [
    "The ratio of cumulative order counts (B to A) rises smoothly during the first half of August and fluctuates evenly thereafter."
   ]
  },
  {
   "cell_type": "markdown",
   "id": "6e98c0fe",
   "metadata": {},
   "source": [
    "### Step 4. Identifying outliers"
   ]
  },
  {
   "cell_type": "code",
   "execution_count": 12,
   "id": "f7449fd5",
   "metadata": {},
   "outputs": [],
   "source": [
    "# group orders by visitorId and aggregate number of unique transactions and total revenue\n",
    "orders_by_user = orders.groupby('visitorId', as_index=False).agg({\n",
    "    'transactionId': 'nunique', 'revenue': 'sum'\n",
    "})\n",
    "\n",
    "# rename columns for clarity\n",
    "orders_by_user.columns = ['visitor', 'order_count', 'revenue_per_user']"
   ]
  },
  {
   "cell_type": "code",
   "execution_count": 13,
   "id": "ee65b82f",
   "metadata": {},
   "outputs": [
    {
     "data": {
      "image/png": "[encoded data removed]",
      "text/plain": [
       "<Figure size 640x480 with 1 Axes>"
      ]
     },
     "metadata": {},
     "output_type": "display_data"
    }
   ],
   "source": [
    "# scatter plot of order count per user\n",
    "plt.scatter(orders_by_user['visitor'], orders_by_user['order_count'])\n",
    "\n",
    "# set title\n",
    "plt.title('Order count per user scatter plot')\n",
    "\n",
    "# show the plot\n",
    "plt.show()"
   ]
  },
  {
   "cell_type": "code",
   "execution_count": 14,
   "id": "1e1baa44",
   "metadata": {},
   "outputs": [
    {
     "data": {
      "text/plain": [
       "array([1., 2., 4.])"
      ]
     },
     "execution_count": 14,
     "metadata": {},
     "output_type": "execute_result"
    }
   ],
   "source": [
    "# calculate the 90th, 95th, and 99th percentiles of the order count\n",
    "order_count_percentile = np.percentile(orders_by_user['order_count'], [90, 95, 99])\n",
    "order_count_percentile"
   ]
  },
  {
   "cell_type": "markdown",
   "id": "d8ae8345",
   "metadata": {},
   "source": [
    "95% of all orders per user fall in the interval of 1-2 purchases. Hence more than two orders per customer are rare and should be further filtered in order not to distort the A/B test results."
   ]
  },
  {
   "cell_type": "code",
   "execution_count": 15,
   "id": "f3c0f796",
   "metadata": {},
   "outputs": [
    {
     "data": {
      "image/png": "[encoded data removed]",
      "text/plain": [
       "<Figure size 640x480 with 1 Axes>"
      ]
     },
     "metadata": {},
     "output_type": "display_data"
    }
   ],
   "source": [
    "# create a scatter plot of revenue per user against visitor ID\n",
    "plt.scatter(orders_by_user['visitor'], orders_by_user['revenue_per_user'])\n",
    "\n",
    "# add a title to the plot\n",
    "plt.title('Revenue per user scatter plot')\n",
    "\n",
    "# show the plot\n",
    "plt.show()"
   ]
  },
  {
   "cell_type": "code",
   "execution_count": 16,
   "id": "af0723cf",
   "metadata": {},
   "outputs": [
    {
     "data": {
      "text/plain": [
       "array([19260. , 32899.5, 67750. ])"
      ]
     },
     "execution_count": 16,
     "metadata": {},
     "output_type": "execute_result"
    }
   ],
   "source": [
    "# calculate the 90th, 95th, and 99th percentiles of the revenue per user\n",
    "revenue_percentile = np.percentile(orders_by_user['revenue_per_user'], [90, 95, 99])\n",
    "revenue_percentile"
   ]
  },
  {
   "cell_type": "markdown",
   "id": "9e26accd",
   "metadata": {},
   "source": [
    "90% of all revenue per user does not exceed 19,260 units with larger orders considered to be outliers."
   ]
  },
  {
   "cell_type": "markdown",
   "id": "37bdc95c",
   "metadata": {},
   "source": [
    "### Step 5. Testing data distribution normality"
   ]
  },
  {
   "cell_type": "code",
   "execution_count": 17,
   "id": "41e50a07",
   "metadata": {},
   "outputs": [],
   "source": [
    "# set significance level\n",
    "alpha = .05\n",
    "\n",
    "# calculate number of orders per user for group A\n",
    "ordersByUsersA = (\n",
    "    orders[orders['group'] == 'A']\n",
    "    .groupby('visitorId', as_index=False)\n",
    "    .agg({'transactionId': pd.Series.nunique})\n",
    ")\n",
    "ordersByUsersA.columns = ['visitorId', 'orders']\n",
    "\n",
    "# calculate number of orders per user for group B\n",
    "ordersByUsersB = (\n",
    "    orders[orders['group'] == 'B']\n",
    "    .groupby('visitorId', as_index=False)\n",
    "    .agg({'transactionId': pd.Series.nunique})\n",
    ")\n",
    "ordersByUsersB.columns = ['visitorId', 'orders']\n",
    "\n",
    "# create a sample of order counts for group A\n",
    "sample_order_count_A = pd.concat(\n",
    "    [\n",
    "        ordersByUsersA['orders'],\n",
    "        pd.Series(\n",
    "            0,\n",
    "            index=np.arange(\n",
    "                data['visitors_per_day_A'].sum() - len(ordersByUsersA['orders'])\n",
    "            ),\n",
    "            name='orders',\n",
    "        ),\n",
    "    ],\n",
    "    axis=0,\n",
    ")\n",
    "\n",
    "# create a sample of order counts for group B\n",
    "sample_order_count_B = pd.concat(\n",
    "    [\n",
    "        ordersByUsersB['orders'],\n",
    "        pd.Series(\n",
    "            0,\n",
    "            index=np.arange(\n",
    "                data['visitors_per_day_B'].sum() - len(ordersByUsersB['orders'])\n",
    "            ),\n",
    "            name='orders',\n",
    "        ),\n",
    "    ],\n",
    "    axis=0,\n",
    ")\n",
    "\n",
    "# create a sample of average bill for group A\n",
    "sample_avg_bill_A = orders[orders['group']=='A']['revenue']\n",
    "\n",
    "# create a sample of average bill for group B\n",
    "sample_avg_bill_B = orders[orders['group']=='B']['revenue']\n"
   ]
  },
  {
   "cell_type": "code",
   "execution_count": 18,
   "id": "af09ac18",
   "metadata": {},
   "outputs": [],
   "source": [
    "def shapiro_test(sample):\n",
    "    \"\"\"\n",
    "    This method takes in a sample as an input and performs a Shapiro-Wilk normality test\n",
    "    on it using the shapiro() function from the scipy.stats library.\n",
    "    The resulting p-value is printed out, and based on the significance level\n",
    "    set as alpha earlier in the code, the function prints whether to reject or\n",
    "    fail to reject the null hypothesis that the data distribution is normal.\n",
    "    \"\"\"\n",
    "    p_value = st.shapiro(sample)[1]\n",
    "    print('p-value: ', p_value)\n",
    "    if p_value < alpha:\n",
    "        print('Reject the null hypothesis: data distribution is not normal')\n",
    "    else:\n",
    "        print('Fail to reject the null hypothesis: data distribution not normal') "
   ]
  },
  {
   "cell_type": "code",
   "execution_count": 19,
   "id": "4d16478c",
   "metadata": {},
   "outputs": [
    {
     "name": "stdout",
     "output_type": "stream",
     "text": [
      "p-value:  0.0\n",
      "Reject the null hypothesis: data distribution is not normal\n"
     ]
    },
    {
     "name": "stderr",
     "output_type": "stream",
     "text": [
      "C:\\Users\\pablo\\anaconda3\\lib\\site-packages\\scipy\\stats\\_morestats.py:1800: UserWarning: p-value may not be accurate for N > 5000.\n",
      "  warnings.warn(\"p-value may not be accurate for N > 5000.\")\n"
     ]
    }
   ],
   "source": [
    "# use shapiro_test method to test distribution\n",
    "# normality for group A order count\n",
    "shapiro_test(sample_order_count_A)"
   ]
  },
  {
   "cell_type": "code",
   "execution_count": 20,
   "id": "0039aa60",
   "metadata": {},
   "outputs": [
    {
     "name": "stdout",
     "output_type": "stream",
     "text": [
      "p-value:  0.0\n",
      "Reject the null hypothesis: data distribution is not normal\n"
     ]
    }
   ],
   "source": [
    "# use shapiro_test method to test distribution\n",
    "# normality for group B order count\n",
    "shapiro_test(sample_order_count_B)"
   ]
  },
  {
   "cell_type": "code",
   "execution_count": 21,
   "id": "5f04f9ec",
   "metadata": {},
   "outputs": [
    {
     "name": "stdout",
     "output_type": "stream",
     "text": [
      "p-value:  1.739723833199812e-34\n",
      "Reject the null hypothesis: data distribution is not normal\n"
     ]
    }
   ],
   "source": [
    "# use shapiro_test method to test distribution\n",
    "# normality for group A average bill\n",
    "shapiro_test(sample_avg_bill_A)"
   ]
  },
  {
   "cell_type": "code",
   "execution_count": 22,
   "id": "d23431a6",
   "metadata": {},
   "outputs": [
    {
     "name": "stdout",
     "output_type": "stream",
     "text": [
      "p-value:  0.0\n",
      "Reject the null hypothesis: data distribution is not normal\n"
     ]
    }
   ],
   "source": [
    "# use shapiro_test method to test distribution\n",
    "# normality for group B average bill\n",
    "shapiro_test(sample_avg_bill_B)"
   ]
  },
  {
   "cell_type": "markdown",
   "id": "7285fae8",
   "metadata": {},
   "source": [
    "Hence all data distributions are not normal the Mann-Whitney non parametric test will be used to test whether two samples (A and B) are likely to derive from the same population."
   ]
  },
  {
   "cell_type": "markdown",
   "id": "484b7af4",
   "metadata": {},
   "source": [
    "### Step 6. Raw data order count Mann-Whitney test"
   ]
  },
  {
   "cell_type": "code",
   "execution_count": 23,
   "id": "b4cdfa36",
   "metadata": {},
   "outputs": [
    {
     "name": "stdout",
     "output_type": "stream",
     "text": [
      "p-value: 0.017\n",
      "avg B to avg A ratio: 0.138\n",
      "Reject H0: no difference between orders counts in groups A and B\n"
     ]
    }
   ],
   "source": [
    "# calculate the p-value for the Mann-Whitney U test\n",
    "p_value_order_cnt_raw = st.mannwhitneyu(sample_order_count_A, sample_order_count_B)[1]\n",
    "\n",
    "# print the p-value with 3 decimal places\n",
    "print(\"p-value: {0:.3f}\".format(p_value_order_cnt_raw))\n",
    "\n",
    "# calculate the ratio of average order counts in group B to group A\n",
    "avg_order_count_ratio = sample_order_count_B.mean() / sample_order_count_A.mean() - 1\n",
    "\n",
    "# print the ratio of average order counts in group B to group A with 3 decimal places\n",
    "print(\"avg B to avg A ratio: {0:.3f}\".format(avg_order_count_ratio))\n",
    "\n",
    "# check if the p-value is less than the significance level alpha\n",
    "if p_value_order_cnt_raw < alpha:\n",
    "    # if the p-value is less than alpha, reject the null hypothesis and print the corresponding message\n",
    "    print('Reject H0: no difference between orders counts in groups A and B')\n",
    "else:\n",
    "    # if the p-value is not less than alpha, fail to reject the null hypothesis and print the corresponding message\n",
    "    print('Fail to reject H0, H1: the metric in groups A and B differs.')"
   ]
  },
  {
   "cell_type": "markdown",
   "id": "7a5fbb2e",
   "metadata": {},
   "source": [
    "The null hypothesis: there is no difference between orders counts in groups A and B. The alternative hypothesis is: the metric in groups A and B differs.\n",
    "\n",
    "The resulting p-value (the smallest significance level at which the null hypothesis can be rejected) of 1,7% is less than required 5% significance level. Therefore, there is stitistical evidence to reject the null hypothesis. The amount of purchases per 1 visitor do differ in groups A and B. The average amount of purchases in group B exceeds the other category by 13.8%."
   ]
  },
  {
   "cell_type": "markdown",
   "id": "8d2fabb1",
   "metadata": {},
   "source": [
    "### Step 7. Raw data average bill Mann-Whitney test."
   ]
  },
  {
   "cell_type": "code",
   "execution_count": 24,
   "id": "3e305faf",
   "metadata": {},
   "outputs": [
    {
     "name": "stdout",
     "output_type": "stream",
     "text": [
      "p-value: 0.729\n",
      "avg B to avg A ratio: 0.259\n",
      "Fail to reject H0, H1: the metric in groups A and B differs\n"
     ]
    }
   ],
   "source": [
    "# perform Mann-Whitney U test to compare the means of two groups\n",
    "p_value_revenue_raw = st.mannwhitneyu(sample_avg_bill_A, sample_avg_bill_B)[1]\n",
    "\n",
    "# print the p-value with three decimal places\n",
    "print('p-value: {0:.3f}'.format(p_value_revenue_raw))\n",
    "\n",
    "# calculate the ratio of average revenue in group B to group A, and print with three decimal places\n",
    "print('avg B to avg A ratio: {0:.3f}'.format(sample_avg_bill_B.mean()/sample_avg_bill_A.mean()-1))\n",
    "\n",
    "# check the p-value against the significance level alpha\n",
    "if p_value_revenue_raw < alpha:\n",
    "    # reject the null hypothesis if p-value is less than alpha\n",
    "    print('Reject H0: no difference between average bills in groups A and B')\n",
    "else:\n",
    "    # fail to reject the null hypothesis if p-value is greater than or equal to alpha\n",
    "    print('Fail to reject H0, H1: the metric in groups A and B differs')"
   ]
  },
  {
   "cell_type": "markdown",
   "id": "24016c4b",
   "metadata": {},
   "source": [
    "The null hypothesis: there is no difference between average bills in groups A and B. The alternative hypothesis is: the metric in groups A and B differs.\n",
    "\n",
    "The resulting p-value of 72,9% exceeds 5% significance level. Therefore, there the rejection the null hypothesis is failed. There is no statistical evidence in favor of difference between average bills in groups A and B even though on average the B group bills are 25,9% higher comparing to group A."
   ]
  },
  {
   "cell_type": "markdown",
   "id": "cfe1e094",
   "metadata": {},
   "source": [
    "### Step 8. Filtering data"
   ]
  },
  {
   "cell_type": "code",
   "execution_count": 25,
   "id": "7272d210",
   "metadata": {},
   "outputs": [
    {
     "name": "stdout",
     "output_type": "stream",
     "text": [
      "568     113298937\n",
      "1099    148427295\n",
      "461     154576532\n",
      "18      199603092\n",
      "928     204675465\n",
      "Name: visitorId, dtype: int64\n",
      "107\n"
     ]
    }
   ],
   "source": [
    "# select users with more orders than the 95th percentile\n",
    "usersWithManyOrders = pd.concat(\n",
    "    [\n",
    "        ordersByUsersA[ordersByUsersA['orders'] > order_count_percentile[1]]['visitorId'],\n",
    "        ordersByUsersB[ordersByUsersB['orders'] > order_count_percentile[1]]['visitorId'],\n",
    "    ],\n",
    "    axis=0,\n",
    ")\n",
    "\n",
    "# select users with order revenue higher than the 90th percentile\n",
    "usersWithExpensiveOrders = orders[orders['revenue'] > revenue_percentile[0]]['visitorId']\n",
    "\n",
    "# combine the two sets of users and remove duplicates to obtain the set of abnormal users\n",
    "abnormalUsers = (\n",
    "    pd.concat([usersWithManyOrders, usersWithExpensiveOrders], axis=0)\n",
    "    .drop_duplicates()\n",
    "    .sort_values()\n",
    ")\n",
    "\n",
    "# print the first 5 abnormal user IDs\n",
    "print(abnormalUsers.head(5))\n",
    "\n",
    "# print the total number of abnormal users\n",
    "print(abnormalUsers.shape[0])\n"
   ]
  },
  {
   "cell_type": "code",
   "execution_count": 26,
   "id": "cca9948e",
   "metadata": {},
   "outputs": [],
   "source": [
    "# Filter out users with an abnormally high number of orders or expensive orders\n",
    "usersWithManyOrders = pd.concat(\n",
    "    [        ordersByUsersA[ordersByUsersA['orders'] > order_count_percentile[1]]['visitorId'],\n",
    "        ordersByUsersB[ordersByUsersB['orders'] > order_count_percentile[1]]['visitorId'],\n",
    "    ],\n",
    "    axis=0,\n",
    ")\n",
    "usersWithExpensiveOrders = orders[orders['revenue'] > revenue_percentile[0]]['visitorId']\n",
    "abnormalUsers = (\n",
    "    pd.concat([usersWithManyOrders, usersWithExpensiveOrders], axis=0)\n",
    "    .drop_duplicates()\n",
    "    .sort_values()\n",
    ")\n",
    "\n",
    "# Filter out orders made by abnormal users\n",
    "sampleAFiltered = pd.concat(\n",
    "    [        ordersByUsersA[ np.logical_not(ordersByUsersA['visitorId'].isin(abnormalUsers))\n",
    "        ]['orders'],\n",
    "        pd.Series(\n",
    "            0,\n",
    "            index=np.arange(\n",
    "                data['visitors_per_day_A'].sum() - len(ordersByUsersA['orders'])\n",
    "            ),\n",
    "            name='orders',\n",
    "        ),\n",
    "    ],\n",
    "    axis=0,\n",
    ")\n",
    "\n",
    "sampleBFiltered = pd.concat(\n",
    "    [        ordersByUsersB[ np.logical_not(ordersByUsersB['visitorId'].isin(abnormalUsers))\n",
    "        ]['orders'],\n",
    "        pd.Series(\n",
    "            0,\n",
    "            index=np.arange(\n",
    "                data['visitors_per_day_B'].sum() - len(ordersByUsersB['orders'])\n",
    "            ),\n",
    "            name='orders',\n",
    "        ),\n",
    "    ],\n",
    "    axis=0,\n",
    ")\n"
   ]
  },
  {
   "cell_type": "markdown",
   "id": "822987cd",
   "metadata": {},
   "source": [
    "The abnormal data was filtered in order to reperform the Mann-Whitney statistical test."
   ]
  },
  {
   "cell_type": "markdown",
   "id": "1f0f08c5",
   "metadata": {},
   "source": [
    "### Step 9. Filtered data order count Mann-Whitney test"
   ]
  },
  {
   "cell_type": "code",
   "execution_count": 27,
   "id": "97a58003",
   "metadata": {},
   "outputs": [
    {
     "name": "stdout",
     "output_type": "stream",
     "text": [
      "p-value: 0.017\n",
      "avg B to avg A ratio: 0.163\n",
      "Reject H0: no difference between orders counts in groups A and B\n"
     ]
    }
   ],
   "source": [
    "# calculate the p-value for the filtered samples using Mann-Whitney U test\n",
    "p_value_order_cnt = st.mannwhitneyu(sampleAFiltered, sampleBFiltered)[1]\n",
    "\n",
    "# print the p-value\n",
    "print(\"p-value: {0:.3f}\".format(p_value_order_cnt_raw))\n",
    "\n",
    "# print the average B to average A ratio for the filtered samples\n",
    "print(\"avg B to avg A ratio: {0:.3f}\".format(sampleBFiltered.mean() / sampleAFiltered.mean() - 1))\n",
    "\n",
    "# check if the p-value is less than the significance level (alpha)\n",
    "# and print the corresponding conclusion\n",
    "if p_value_order_cnt_raw < alpha:\n",
    "    print('Reject H0: no difference between orders counts in groups A and B')\n",
    "else:\n",
    "    print('Fail to reject H0, H1: the metric in groups A and B differs')"
   ]
  },
  {
   "cell_type": "markdown",
   "id": "e84c5168",
   "metadata": {},
   "source": [
    "### Step 10. Filtered data average bill Mann-Whitney test"
   ]
  },
  {
   "cell_type": "code",
   "execution_count": 28,
   "id": "d597092f",
   "metadata": {},
   "outputs": [
    {
     "name": "stdout",
     "output_type": "stream",
     "text": [
      "p-value: 0.517\n",
      "avg B to avg A ratio: -0.060\n",
      "Fail to reject H0, H1: the metric in groups A and B differs\n"
     ]
    }
   ],
   "source": [
    "# calculate the p-value for the Mann-Whitney U test on the filtered samples\n",
    "p_value_revenue = st.mannwhitneyu(\n",
    "            orders[np.logical_and(orders['group'] == 'A',\n",
    "                    np.logical_not(orders['visitorId'].isin(abnormalUsers)),\n",
    "                )\n",
    "            ]['revenue'],\n",
    "            orders[np.logical_and(orders['group'] == 'B',\n",
    "                    np.logical_not(orders['visitorId'].isin(abnormalUsers)),\n",
    "                )\n",
    "            ]['revenue'],\n",
    "        )[1]\n",
    "\n",
    "# print the calculated p-value with a precision of 3 decimal places\n",
    "print('p-value: {0:.3f}'.format(p_value_revenue))\n",
    "\n",
    "# calculate and print the ratio of the mean revenue of group B to group A\n",
    "print(\"avg B to avg A ratio: {0:.3f}\".format(\n",
    "        orders[np.logical_and(orders['group'] == 'B',\n",
    "                np.logical_not(orders['visitorId'].isin(abnormalUsers)),\n",
    "            )\n",
    "        ]['revenue'].mean()\n",
    "        / orders[np.logical_and(orders['group'] == 'A',\n",
    "                np.logical_not(orders['visitorId'].isin(abnormalUsers)),\n",
    "            )\n",
    "        ]['revenue'].mean()\n",
    "        - 1\n",
    "    )\n",
    ")\n",
    "\n",
    "# check if the p-value is less than the significance level alpha, and print the result\n",
    "if p_value_revenue < alpha:\n",
    "    print('Reject H0: no difference between average bills in groups A and B')\n",
    "else:\n",
    "    print('Fail to reject H0, H1: the metric in groups A and B differs')"
   ]
  },
  {
   "cell_type": "markdown",
   "id": "716d6d14",
   "metadata": {},
   "source": [
    "The results of hypothesis testing remain unchanged: we reject the null hypothesis of order counts equality and fail to reject the null hypothesis of the average bill equality in groups A and B. Although, the filtered data no longer represents any difference between the mean values of the average bills in the observable groups (the ratio of -6% comparing to 25,9% in the raw data)."
   ]
  },
  {
   "cell_type": "markdown",
   "id": "d26cee0f",
   "metadata": {},
   "source": [
    "### Step 11. General conclusion"
   ]
  },
  {
   "cell_type": "markdown",
   "id": "79af9f72",
   "metadata": {},
   "source": [
    "To sum up, the results of the A/B test are:\n",
    "\n",
    "- there is statistically significant difference in the orders amount between the groups judging by both raw and filtered data;\n",
    "- there is no statistically significant difference in the average bill between the groups judging by both raw and filtered data;\n",
    "- the orders count of the B group are on average from 13.8% (raw data) to 16.3% (filtered data) larger comparing to the control group;\n",
    "- cumulative order count graph showed that group B order counts exceeded the ones of group A in the beginning of August 2019 and stabilized around the values of 0.03 (group A) and 0.035 (group B).\n",
    "\n",
    "Due to the above mentioned conclusions new recommendation system proved to be effective in terms of orders volume, the A/B test should be admitted successful, B group should be considered as the winner."
   ]
  }
 ],
 "metadata": {
  "ExecuteTimeLog": [
   {
    "duration": 1082,
    "start_time": "2023-02-02T17:55:15.639Z"
   },
   {
    "duration": 57,
    "start_time": "2023-02-02T17:55:16.724Z"
   },
   {
    "duration": 15,
    "start_time": "2023-02-02T17:55:16.782Z"
   },
   {
    "duration": 15,
    "start_time": "2023-02-02T17:55:16.799Z"
   },
   {
    "duration": 12,
    "start_time": "2023-02-02T17:55:16.816Z"
   },
   {
    "duration": 12,
    "start_time": "2023-02-02T17:55:16.830Z"
   },
   {
    "duration": 15,
    "start_time": "2023-02-02T17:55:16.844Z"
   },
   {
    "duration": 119,
    "start_time": "2023-02-02T17:55:16.861Z"
   },
   {
    "duration": 16,
    "start_time": "2023-02-02T17:55:16.982Z"
   },
   {
    "duration": 20,
    "start_time": "2023-02-02T17:55:17.000Z"
   },
   {
    "duration": 11,
    "start_time": "2023-02-02T17:55:17.022Z"
   },
   {
    "duration": 11,
    "start_time": "2023-02-02T17:55:17.035Z"
   },
   {
    "duration": 9,
    "start_time": "2023-02-02T17:55:17.048Z"
   },
   {
    "duration": 265,
    "start_time": "2023-02-02T17:55:17.061Z"
   },
   {
    "duration": 10,
    "start_time": "2023-02-02T17:55:17.328Z"
   },
   {
    "duration": 309,
    "start_time": "2023-02-02T17:55:17.340Z"
   },
   {
    "duration": 208,
    "start_time": "2023-02-02T17:55:17.651Z"
   },
   {
    "duration": 180,
    "start_time": "2023-02-02T17:55:17.860Z"
   },
   {
    "duration": 332,
    "start_time": "2023-02-02T17:55:18.041Z"
   },
   {
    "duration": 201,
    "start_time": "2023-02-02T17:55:18.375Z"
   },
   {
    "duration": 21,
    "start_time": "2023-02-02T17:55:18.577Z"
   },
   {
    "duration": 146,
    "start_time": "2023-02-02T17:55:18.600Z"
   },
   {
    "duration": 5,
    "start_time": "2023-02-02T17:55:18.747Z"
   },
   {
    "duration": 145,
    "start_time": "2023-02-02T17:55:18.753Z"
   },
   {
    "duration": 9,
    "start_time": "2023-02-02T17:55:18.900Z"
   },
   {
    "duration": 180,
    "start_time": "2023-02-02T17:55:18.913Z"
   },
   {
    "duration": 4,
    "start_time": "2023-02-02T17:55:19.096Z"
   },
   {
    "duration": 17,
    "start_time": "2023-02-02T17:55:19.102Z"
   },
   {
    "duration": 5,
    "start_time": "2023-02-02T17:55:19.121Z"
   },
   {
    "duration": 9,
    "start_time": "2023-02-02T17:55:19.127Z"
   },
   {
    "duration": 5,
    "start_time": "2023-02-02T17:55:19.138Z"
   },
   {
    "duration": 53,
    "start_time": "2023-02-02T17:55:19.145Z"
   },
   {
    "duration": 11,
    "start_time": "2023-02-02T17:55:19.201Z"
   },
   {
    "duration": 21,
    "start_time": "2023-02-02T17:55:19.214Z"
   },
   {
    "duration": 16,
    "start_time": "2023-02-02T17:55:19.236Z"
   },
   {
    "duration": 47,
    "start_time": "2023-02-02T17:55:19.255Z"
   },
   {
    "duration": 19,
    "start_time": "2023-02-02T17:55:19.304Z"
   },
   {
    "duration": 2181,
    "start_time": "2023-02-03T12:27:23.586Z"
   },
   {
    "duration": 70,
    "start_time": "2023-02-03T12:27:25.769Z"
   },
   {
    "duration": 17,
    "start_time": "2023-02-03T12:27:25.840Z"
   },
   {
    "duration": 29,
    "start_time": "2023-02-03T12:27:25.858Z"
   },
   {
    "duration": 9,
    "start_time": "2023-02-03T12:27:25.937Z"
   },
   {
    "duration": 40,
    "start_time": "2023-02-03T12:27:25.947Z"
   },
   {
    "duration": 61,
    "start_time": "2023-02-03T12:27:25.989Z"
   },
   {
    "duration": 135,
    "start_time": "2023-02-03T12:27:26.051Z"
   },
   {
    "duration": 52,
    "start_time": "2023-02-03T12:27:26.187Z"
   },
   {
    "duration": 46,
    "start_time": "2023-02-03T12:27:26.240Z"
   },
   {
    "duration": 51,
    "start_time": "2023-02-03T12:27:26.288Z"
   },
   {
    "duration": 45,
    "start_time": "2023-02-03T12:27:26.342Z"
   },
   {
    "duration": 33,
    "start_time": "2023-02-03T12:27:26.389Z"
   },
   {
    "duration": 324,
    "start_time": "2023-02-03T12:27:26.425Z"
   },
   {
    "duration": 92,
    "start_time": "2023-02-03T12:27:26.751Z"
   },
   {
    "duration": 655,
    "start_time": "2023-02-03T12:27:26.845Z"
   },
   {
    "duration": 194,
    "start_time": "2023-02-03T12:27:27.502Z"
   },
   {
    "duration": 176,
    "start_time": "2023-02-03T12:27:27.697Z"
   },
   {
    "duration": 281,
    "start_time": "2023-02-03T12:27:27.874Z"
   },
   {
    "duration": 172,
    "start_time": "2023-02-03T12:27:28.157Z"
   },
   {
    "duration": 10,
    "start_time": "2023-02-03T12:27:28.331Z"
   },
   {
    "duration": 146,
    "start_time": "2023-02-03T12:27:28.342Z"
   },
   {
    "duration": 5,
    "start_time": "2023-02-03T12:27:28.489Z"
   },
   {
    "duration": 203,
    "start_time": "2023-02-03T12:27:28.495Z"
   },
   {
    "duration": 5,
    "start_time": "2023-02-03T12:27:28.700Z"
   },
   {
    "duration": 201,
    "start_time": "2023-02-03T12:27:28.707Z"
   },
   {
    "duration": 29,
    "start_time": "2023-02-03T12:27:28.909Z"
   },
   {
    "duration": 20,
    "start_time": "2023-02-03T12:27:28.940Z"
   },
   {
    "duration": 34,
    "start_time": "2023-02-03T12:27:28.961Z"
   },
   {
    "duration": 20,
    "start_time": "2023-02-03T12:27:28.996Z"
   },
   {
    "duration": 37,
    "start_time": "2023-02-03T12:27:29.018Z"
   },
   {
    "duration": 66,
    "start_time": "2023-02-03T12:27:29.056Z"
   },
   {
    "duration": 7,
    "start_time": "2023-02-03T12:27:29.124Z"
   },
   {
    "duration": 35,
    "start_time": "2023-02-03T12:27:29.132Z"
   },
   {
    "duration": 47,
    "start_time": "2023-02-03T12:27:29.169Z"
   },
   {
    "duration": 44,
    "start_time": "2023-02-03T12:27:29.218Z"
   },
   {
    "duration": 36,
    "start_time": "2023-02-03T12:27:29.264Z"
   },
   {
    "duration": 1043,
    "start_time": "2023-02-04T10:10:48.188Z"
   },
   {
    "duration": 28,
    "start_time": "2023-02-04T10:10:49.233Z"
   },
   {
    "duration": 12,
    "start_time": "2023-02-04T10:10:49.262Z"
   },
   {
    "duration": 9,
    "start_time": "2023-02-04T10:10:49.276Z"
   },
   {
    "duration": 7,
    "start_time": "2023-02-04T10:10:49.287Z"
   },
   {
    "duration": 14,
    "start_time": "2023-02-04T10:10:49.296Z"
   },
   {
    "duration": 20,
    "start_time": "2023-02-04T10:10:49.311Z"
   },
   {
    "duration": 53,
    "start_time": "2023-02-04T10:10:49.333Z"
   },
   {
    "duration": 12,
    "start_time": "2023-02-04T10:10:49.387Z"
   },
   {
    "duration": 22,
    "start_time": "2023-02-04T10:10:49.400Z"
   },
   {
    "duration": 12,
    "start_time": "2023-02-04T10:10:49.423Z"
   },
   {
    "duration": 13,
    "start_time": "2023-02-04T10:10:49.436Z"
   },
   {
    "duration": 10,
    "start_time": "2023-02-04T10:10:49.450Z"
   },
   {
    "duration": 196,
    "start_time": "2023-02-04T10:10:49.462Z"
   },
   {
    "duration": 9,
    "start_time": "2023-02-04T10:10:49.659Z"
   },
   {
    "duration": 246,
    "start_time": "2023-02-04T10:10:49.670Z"
   },
   {
    "duration": 179,
    "start_time": "2023-02-04T10:10:49.917Z"
   },
   {
    "duration": 157,
    "start_time": "2023-02-04T10:10:50.098Z"
   },
   {
    "duration": 180,
    "start_time": "2023-02-04T10:10:50.256Z"
   },
   {
    "duration": 142,
    "start_time": "2023-02-04T10:10:50.438Z"
   },
   {
    "duration": 14,
    "start_time": "2023-02-04T10:10:50.581Z"
   },
   {
    "duration": 108,
    "start_time": "2023-02-04T10:10:50.596Z"
   },
   {
    "duration": 5,
    "start_time": "2023-02-04T10:10:50.705Z"
   },
   {
    "duration": 120,
    "start_time": "2023-02-04T10:10:50.711Z"
   },
   {
    "duration": 4,
    "start_time": "2023-02-04T10:10:50.833Z"
   },
   {
    "duration": 143,
    "start_time": "2023-02-04T10:10:50.839Z"
   },
   {
    "duration": 3,
    "start_time": "2023-02-04T10:10:50.984Z"
   },
   {
    "duration": 8,
    "start_time": "2023-02-04T10:10:50.990Z"
   },
   {
    "duration": 10,
    "start_time": "2023-02-04T10:10:50.999Z"
   },
   {
    "duration": 17,
    "start_time": "2023-02-04T10:10:51.010Z"
   },
   {
    "duration": 14,
    "start_time": "2023-02-04T10:10:51.028Z"
   },
   {
    "duration": 37,
    "start_time": "2023-02-04T10:10:51.044Z"
   },
   {
    "duration": 8,
    "start_time": "2023-02-04T10:10:51.083Z"
   },
   {
    "duration": 30,
    "start_time": "2023-02-04T10:10:51.092Z"
   },
   {
    "duration": 15,
    "start_time": "2023-02-04T10:10:51.123Z"
   },
   {
    "duration": 27,
    "start_time": "2023-02-04T10:10:51.140Z"
   },
   {
    "duration": 13,
    "start_time": "2023-02-04T10:10:51.168Z"
   },
   {
    "duration": 1073,
    "start_time": "2023-02-04T10:20:11.867Z"
   },
   {
    "duration": 31,
    "start_time": "2023-02-04T10:20:12.942Z"
   },
   {
    "duration": 12,
    "start_time": "2023-02-04T10:20:12.975Z"
   },
   {
    "duration": 9,
    "start_time": "2023-02-04T10:20:12.988Z"
   },
   {
    "duration": 13,
    "start_time": "2023-02-04T10:20:12.999Z"
   },
   {
    "duration": 21,
    "start_time": "2023-02-04T10:20:13.014Z"
   },
   {
    "duration": 17,
    "start_time": "2023-02-04T10:20:13.037Z"
   },
   {
    "duration": 61,
    "start_time": "2023-02-04T10:20:13.056Z"
   },
   {
    "duration": 14,
    "start_time": "2023-02-04T10:20:13.119Z"
   },
   {
    "duration": 13,
    "start_time": "2023-02-04T10:20:13.134Z"
   },
   {
    "duration": 25,
    "start_time": "2023-02-04T10:20:13.148Z"
   },
   {
    "duration": 51,
    "start_time": "2023-02-04T10:20:13.175Z"
   },
   {
    "duration": 12,
    "start_time": "2023-02-04T10:20:13.227Z"
   },
   {
    "duration": 210,
    "start_time": "2023-02-04T10:20:13.241Z"
   },
   {
    "duration": 11,
    "start_time": "2023-02-04T10:20:13.452Z"
   },
   {
    "duration": 274,
    "start_time": "2023-02-04T10:20:13.464Z"
   },
   {
    "duration": 194,
    "start_time": "2023-02-04T10:20:13.740Z"
   },
   {
    "duration": 155,
    "start_time": "2023-02-04T10:20:13.936Z"
   },
   {
    "duration": 171,
    "start_time": "2023-02-04T10:20:14.093Z"
   },
   {
    "duration": 143,
    "start_time": "2023-02-04T10:20:14.265Z"
   },
   {
    "duration": 7,
    "start_time": "2023-02-04T10:20:14.409Z"
   },
   {
    "duration": 108,
    "start_time": "2023-02-04T10:20:14.417Z"
   },
   {
    "duration": 5,
    "start_time": "2023-02-04T10:20:14.527Z"
   },
   {
    "duration": 125,
    "start_time": "2023-02-04T10:20:14.533Z"
   },
   {
    "duration": 5,
    "start_time": "2023-02-04T10:20:14.659Z"
   },
   {
    "duration": 147,
    "start_time": "2023-02-04T10:20:14.666Z"
   },
   {
    "duration": 3,
    "start_time": "2023-02-04T10:20:14.815Z"
   },
   {
    "duration": 9,
    "start_time": "2023-02-04T10:20:14.819Z"
   },
   {
    "duration": 13,
    "start_time": "2023-02-04T10:20:14.830Z"
   },
   {
    "duration": 7,
    "start_time": "2023-02-04T10:20:14.844Z"
   },
   {
    "duration": 6,
    "start_time": "2023-02-04T10:20:14.852Z"
   },
   {
    "duration": 35,
    "start_time": "2023-02-04T10:20:14.860Z"
   },
   {
    "duration": 8,
    "start_time": "2023-02-04T10:20:14.897Z"
   },
   {
    "duration": 23,
    "start_time": "2023-02-04T10:20:14.907Z"
   },
   {
    "duration": 7,
    "start_time": "2023-02-04T10:20:14.932Z"
   },
   {
    "duration": 28,
    "start_time": "2023-02-04T10:20:14.941Z"
   },
   {
    "duration": 13,
    "start_time": "2023-02-04T10:20:14.970Z"
   }
  ],
  "kernelspec": {
   "display_name": "Python 3 (ipykernel)",
   "language": "python",
   "name": "python3"
  },
  "language_info": {
   "codemirror_mode": {
    "name": "ipython",
    "version": 3
   },
   "file_extension": ".py",
   "mimetype": "text/x-python",
   "name": "python",
   "nbconvert_exporter": "python",
   "pygments_lexer": "ipython3",
   "version": "3.9.13"
  },
  "toc": {
   "base_numbering": 1,
   "nav_menu": {},
   "number_sections": true,
   "sideBar": true,
   "skip_h1_title": true,
   "title_cell": "Table of Contents",
   "title_sidebar": "Contents",
   "toc_cell": false,
   "toc_position": {},
   "toc_section_display": true,
   "toc_window_display": false
  }
 },
 "nbformat": 4,
 "nbformat_minor": 5
}
